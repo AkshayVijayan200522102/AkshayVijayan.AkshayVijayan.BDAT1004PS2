{
 "cells": [
  {
   "cell_type": "markdown",
   "id": "2dc43edc",
   "metadata": {},
   "source": [
    "Q1) The output is 6. a is defined as a global variable. since it is defined globally , it can be modified using another function c(a).  So the first call returns 2.The next calls value of 'a' becomes 4 and in the next one it become 6. It worked only because 'a' is defined as a global variable."
   ]
  },
  {
   "cell_type": "code",
   "execution_count": 1,
   "id": "bb476924",
   "metadata": {},
   "outputs": [
    {
     "data": {
      "text/plain": [
       "6"
      ]
     },
     "execution_count": 1,
     "metadata": {},
     "output_type": "execute_result"
    }
   ],
   "source": [
    "a = 0\n",
    "def b():\n",
    " global a\n",
    " a = c(a)\n",
    "def c(a):\n",
    " return a + 2\n",
    "\n",
    "b()\n",
    "b()\n",
    "b()\n",
    "a"
   ]
  },
  {
   "cell_type": "markdown",
   "id": "59acc5e7",
   "metadata": {},
   "source": [
    "Q2)"
   ]
  },
  {
   "cell_type": "code",
   "execution_count": 2,
   "id": "e6650772",
   "metadata": {},
   "outputs": [
    {
     "name": "stdout",
     "output_type": "stream",
     "text": [
      "file idterm.py not found!\n"
     ]
    }
   ],
   "source": [
    "def file_length(file_name):\n",
    "    try:\n",
    "        file = open(file_name)\n",
    "        contents = file.read()\n",
    "        file.close()\n",
    "        print(len(contents))\n",
    "    except:\n",
    "        print(\"file \"+file_name+\" not found!\")\n",
    "file_length(\"idterm.py\")"
   ]
  },
  {
   "cell_type": "markdown",
   "id": "f863e4ef",
   "metadata": {},
   "source": [
    "Q3)"
   ]
  },
  {
   "cell_type": "code",
   "execution_count": 4,
   "id": "5f1c1511",
   "metadata": {},
   "outputs": [
    {
     "data": {
      "text/plain": [
       "['doll', 'firetruck', 'kitten']"
      ]
     },
     "execution_count": 4,
     "metadata": {},
     "output_type": "execute_result"
    }
   ],
   "source": [
    "class Marsupial:\n",
    "    def __init__(self):\n",
    "        self.a=[]\n",
    "    def put_in_pouch(self,content):\n",
    "        self.a.append(content)\n",
    "    def pouch_contents(self):\n",
    "        return self.a\n",
    "\n",
    "        \n",
    "m = Marsupial()\n",
    "m.put_in_pouch('doll')\n",
    "m.put_in_pouch('firetruck')\n",
    "m.put_in_pouch('kitten')\n",
    "m.pouch_contents()"
   ]
  },
  {
   "cell_type": "code",
   "execution_count": 5,
   "id": "a9814014",
   "metadata": {},
   "outputs": [
    {
     "name": "stdout",
     "output_type": "stream",
     "text": [
      "I am a Kangaroo located at coordinates (0,0)\n",
      "I am a Kangaroo located at coordinates (3,0)\n"
     ]
    }
   ],
   "source": [
    "class Marsupial:\n",
    "    def __init__(self):\n",
    "        self.a=[]\n",
    "    def put_in_pouch(self,content):\n",
    "        self.a.append(content)\n",
    "    def pouch_contents(self):\n",
    "        return self.a\n",
    "\n",
    "class Kangaroo(Marsupial):\n",
    "    def __init__(self,x,y):\n",
    "        Marsupial.__init__(self)\n",
    "        self.x=x\n",
    "        self.y=y\n",
    "    def Jump(self,dx,dy):\n",
    "        self.x+=dx\n",
    "        self.y+=self.y+dy\n",
    "    def __str__(self):\n",
    "        return(\"I am a Kangaroo located at coordinates ({},{})\".format(self.x,self.y))\n",
    "        \n",
    "m = Marsupial()\n",
    "m.put_in_pouch('doll')\n",
    "m.put_in_pouch('firetruck')\n",
    "m.put_in_pouch('kitten')\n",
    "m.pouch_contents()\n",
    "\n",
    "k = Kangaroo(0,0)\n",
    "print(k) \n",
    "k.put_in_pouch('doll') \n",
    "k.put_in_pouch('firetruck')\n",
    "k.put_in_pouch('kitten')\n",
    "k.pouch_contents()\n",
    "k.Jump(1,0)\n",
    "k.Jump(1,0)\n",
    "k.Jump(1,0)\n",
    "print(k)"
   ]
  },
  {
   "cell_type": "markdown",
   "id": "d01a55a9",
   "metadata": {},
   "source": [
    "Q4)"
   ]
  },
  {
   "cell_type": "code",
   "execution_count": 9,
   "id": "d143814b",
   "metadata": {},
   "outputs": [
    {
     "name": "stdout",
     "output_type": "stream",
     "text": [
      "10\n",
      "5\n",
      "16\n",
      "8\n",
      "4\n",
      "2\n",
      "1\n"
     ]
    }
   ],
   "source": [
    "def collatz(x):\n",
    "    if(x != 1):\n",
    "        print(x ,end ='\\n')\n",
    "    if(x == 1):\n",
    "        print(x ,end ='\\n')\n",
    "        return x\n",
    "    if(x%2 == 0):\n",
    "        x = x // 2\n",
    "        collatz(x)\n",
    "    else:\n",
    "        x= 3*x + 1\n",
    "        collatz(x)\n",
    "collatz(10)"
   ]
  },
  {
   "cell_type": "markdown",
   "id": "213414af",
   "metadata": {},
   "source": [
    "Q5)"
   ]
  },
  {
   "cell_type": "code",
   "execution_count": 13,
   "id": "e4ddb49d",
   "metadata": {},
   "outputs": [
    {
     "name": "stdout",
     "output_type": "stream",
     "text": [
      "0\n",
      "1\n",
      "11\n",
      "1001\n"
     ]
    }
   ],
   "source": [
    "dec_binary =\"\"\n",
    "def binary (n):\n",
    "    global dec_binary\n",
    "    if(n!=1):\n",
    "        if(n==0):\n",
    "            print(\"0\")\n",
    "        else:\n",
    "            temp=\"\"\n",
    "            remainder = int(n%2)\n",
    "            #print(remainder)\n",
    "            temp =str(remainder)\n",
    "            dec_binary+=temp\n",
    "            #print(temp)\n",
    "            n =int(n/2)\n",
    "            binary(n)\n",
    "    else:\n",
    "        dec_binary +=\"1\"\n",
    "        dec_binary = dec_binary [::-1] \n",
    "        print(dec_binary)\n",
    "        dec_binary=\"\"\n",
    "        \n",
    "binary(0)\n",
    "binary(1)\n",
    "binary(3)\n",
    "binary(9)"
   ]
  },
  {
   "cell_type": "markdown",
   "id": "755498f6",
   "metadata": {},
   "source": [
    "Q6)"
   ]
  },
  {
   "cell_type": "code",
   "execution_count": 20,
   "id": "82a7227e",
   "metadata": {},
   "outputs": [
    {
     "name": "stdout",
     "output_type": "stream",
     "text": [
      "W3C Mission\n",
      " Principles\n"
     ]
    }
   ],
   "source": [
    "from urllib.parse import urljoin\n",
    "from html.parser import HTMLParser\n",
    "from urllib.request import urlopen\n",
    "\n",
    "h1='False'\n",
    "h2='False'\n",
    "class HeadingParser(HTMLParser):  \n",
    "    def handle_starttag(self, tag, attributes):\n",
    "        if tag == 'h1':\n",
    "            global h1\n",
    "            h1 = \"True\"\n",
    "            \n",
    "        if tag == 'h2':\n",
    "            global h2\n",
    "            h2 = \"True\"\n",
    "        \n",
    "    def handle_endtag(self, tag):\n",
    "        if h1 == \"False\":\n",
    "            pass\n",
    "        \n",
    "        if h2 == \"False\":\n",
    "            pass\n",
    "        \n",
    "    def handle_data(self, data):\n",
    "        global h1,h2\n",
    "        \n",
    "        if h1 == \"True\":\n",
    "            print(data)\n",
    "            h1='False'    \n",
    "        \n",
    "        if h2 == \"True\":\n",
    "            print(' ',end='')\n",
    "            print(data)\n",
    "            h2 = 'False'\n",
    "\n",
    "infile = open('w3c.html') \n",
    "content = infile.read() \n",
    "infile.close() \n",
    "hp = HeadingParser() \n",
    "hp.feed(content) "
   ]
  },
  {
   "cell_type": "markdown",
   "id": "7ae87843",
   "metadata": {},
   "source": [
    "Q7)"
   ]
  },
  {
   "cell_type": "code",
   "execution_count": 83,
   "id": "1b115815",
   "metadata": {},
   "outputs": [
    {
     "name": "stdout",
     "output_type": "stream",
     "text": [
      "http://reed.cs.depaul.edu/lperkovic/test1.html\n",
      " http://reed.cs.depaul.edu/lperkovic/test2.html\n",
      "  http://reed.cs.depaul.edu/lperkovic/test4.html\n",
      " http://reed.cs.depaul.edu/lperkovic/test3.html\n",
      "  http://reed.cs.depaul.edu/lperkovic/test4.html\n"
     ]
    }
   ],
   "source": [
    "from urllib.request import urlopen\n",
    "from urllib.parse import urljoin\n",
    "from html.parser import HTMLParser\n",
    "\n",
    "class Collect(HTMLParser):\n",
    "\n",
    "    def __init__(self, giv_URL):\n",
    "        \n",
    "        HTMLParser.__init__(self)\n",
    "        self.givenURL = giv_URL\n",
    "        self.availableLinks = []\n",
    "\n",
    "    def handle_starttag(self, tag, attrs):\n",
    "        if tag == 'a':\n",
    "            for attr in attrs:          \n",
    "                if attr[0] == 'href': \n",
    "                    absolute = urljoin(self.givenURL, attr[1])\n",
    "                    if absolute[:4] == 'http':\n",
    "                        self.availableLinks.append(absolute)\n",
    "\n",
    "    def getLinks(self):\n",
    "        return self.availableLinks\n",
    "    \n",
    "    \n",
    "    \n",
    "Links = []\n",
    "def webdir(giv_URL,depth,ind):\n",
    "    global Links\n",
    "    resource = urlopen(giv_URL)\n",
    "    content = resource.read().decode()\n",
    "    collect = Collect(giv_URL)\n",
    "    collect.feed(content)\n",
    "    Links = collect.getLinks()\n",
    "    print(ind*\" \" + giv_URL)\n",
    "    if depth == 0:\n",
    "         return \n",
    "    for i in Links: \n",
    "        webdir(i, depth-1, ind+1)    \n",
    "            \n",
    "#Calling Webdir Function\n",
    "webdir('http://reed.cs.depaul.edu/lperkovic/test1.html',2,0) "
   ]
  },
  {
   "cell_type": "markdown",
   "id": "b00d1869",
   "metadata": {},
   "source": [
    "Q8)"
   ]
  },
  {
   "cell_type": "code",
   "execution_count": 65,
   "id": "cc74edc8",
   "metadata": {},
   "outputs": [
    {
     "name": "stdout",
     "output_type": "stream",
     "text": [
      "('Mumbai', 'India', 'Winter', 24.8, 5.9)\n",
      "('Mumbai', 'India', 'Spring', 28.4, 16.2)\n",
      "('Mumbai', 'India', 'Summer', 27.9, 1549.4)\n",
      "('Mumbai', 'India', 'Fall', 27.6, 346.0)\n",
      "('London', 'United Kingdom', 'Winter', 4.2, 207.7)\n",
      "('London', 'United Kingdom', 'Spring', 8.3, 169.6)\n",
      "('London', 'United Kingdom', 'Summer', 15.7, 157.0)\n",
      "('London', 'United Kingdom', 'Fall', 10.4, 218.5)\n",
      "('Cairo', 'Egypt', 'Winter', 13.6, 16.5)\n",
      "('Cairo', 'Egypt', 'Spring', 20.7, 6.5)\n",
      "('Cairo', 'Egypt', 'Summer', 27.7, 0.1)\n",
      "('Cairo', 'Egypt', 'Fall', 22.2, 4.5)\n"
     ]
    }
   ],
   "source": [
    "import sqlite3\n",
    "sqliteConnection = sqlite3.connect('akshay.db')\n",
    "cur = sqliteConnection.cursor()\n",
    "cur.execute(\"CREATE TABLE weather (City text, Country text, Season text, Temperature float, Rainfall float)\")\n",
    "lst=[('Mumbai', 'India','Winter',24.8, 5.9),('Mumbai','India','Spring',28.4,16.2),('Mumbai','India','Summer',27.9,1549.4),\n",
    "     ('Mumbai','India','Fall',27.6,346.0),('London','United Kingdom','Winter',4.2,207.7),\n",
    "     ('London','United Kingdom','Spring',8.3,169.6),('London','United Kingdom','Summer',15.7,157.0),\n",
    "     ('London','United Kingdom','Fall',10.4,218.5),('Cairo','Egypt','Winter',13.6,16.5),('Cairo','Egypt','Spring',20.7,6.5),\n",
    "     ('Cairo','Egypt','Summer',27.7,0.1),('Cairo','Egypt','Fall',22.2,4.5)]\n",
    "for i in lst:\n",
    "    cur.execute(\"INSERT INTO weather VALUES (?,?,?,?,?)\",i)\n",
    "    sqliteConnection.commit()\n",
    "sqliteConnection.close()\n",
    "sqliteConnection = sqlite3.connect('akshay.db')\n",
    "cur = sqliteConnection.cursor()\n",
    "cur.execute('SELECT * FROM weather')\n",
    "for i in cur :\n",
    "    print(i)"
   ]
  },
  {
   "cell_type": "markdown",
   "id": "1f2dd0c7",
   "metadata": {},
   "source": [
    "8a)"
   ]
  },
  {
   "cell_type": "code",
   "execution_count": 67,
   "id": "e81bbfae",
   "metadata": {},
   "outputs": [
    {
     "data": {
      "text/plain": [
       "[(24.8,),\n",
       " (28.4,),\n",
       " (27.9,),\n",
       " (27.6,),\n",
       " (4.2,),\n",
       " (8.3,),\n",
       " (15.7,),\n",
       " (10.4,),\n",
       " (13.6,),\n",
       " (20.7,),\n",
       " (27.7,),\n",
       " (22.2,)]"
      ]
     },
     "execution_count": 67,
     "metadata": {},
     "output_type": "execute_result"
    }
   ],
   "source": [
    "cur.execute('SELECT Temperature FROM weather')\n",
    "cur.fetchall()"
   ]
  },
  {
   "cell_type": "markdown",
   "id": "8890e5f3",
   "metadata": {},
   "source": [
    "8b)"
   ]
  },
  {
   "cell_type": "code",
   "execution_count": 68,
   "id": "e611b3fa",
   "metadata": {},
   "outputs": [
    {
     "data": {
      "text/plain": [
       "[('Mumbai',), ('London',), ('Cairo',)]"
      ]
     },
     "execution_count": 68,
     "metadata": {},
     "output_type": "execute_result"
    }
   ],
   "source": [
    "cur.execute('SELECT DISTINCT City from weather');\n",
    "cur.fetchall()"
   ]
  },
  {
   "cell_type": "markdown",
   "id": "7bd2eec1",
   "metadata": {},
   "source": [
    "8c)"
   ]
  },
  {
   "cell_type": "code",
   "execution_count": 69,
   "id": "180d763f",
   "metadata": {},
   "outputs": [
    {
     "data": {
      "text/plain": [
       "[('Mumbai', 'India', 'Winter', 24.8, 5.9),\n",
       " ('Mumbai', 'India', 'Spring', 28.4, 16.2),\n",
       " ('Mumbai', 'India', 'Summer', 27.9, 1549.4),\n",
       " ('Mumbai', 'India', 'Fall', 27.6, 346.0)]"
      ]
     },
     "execution_count": 69,
     "metadata": {},
     "output_type": "execute_result"
    }
   ],
   "source": [
    "cur.execute('SELECT * FROM weather WHERE Country =\"India\" ')\n",
    "cur.fetchall()"
   ]
  },
  {
   "cell_type": "markdown",
   "id": "7d1bbd13",
   "metadata": {},
   "source": [
    "8d)"
   ]
  },
  {
   "cell_type": "code",
   "execution_count": 70,
   "id": "8cf55da0",
   "metadata": {},
   "outputs": [
    {
     "data": {
      "text/plain": [
       "[('Mumbai', 'India', 'Fall', 27.6, 346.0),\n",
       " ('London', 'United Kingdom', 'Fall', 10.4, 218.5),\n",
       " ('Cairo', 'Egypt', 'Fall', 22.2, 4.5)]"
      ]
     },
     "execution_count": 70,
     "metadata": {},
     "output_type": "execute_result"
    }
   ],
   "source": [
    "cur.execute('SELECT * FROM weather WHERE Season =\"Fall\" ')\n",
    "cur.fetchall()"
   ]
  },
  {
   "cell_type": "markdown",
   "id": "9ce6cc20",
   "metadata": {},
   "source": [
    "8e)"
   ]
  },
  {
   "cell_type": "code",
   "execution_count": 71,
   "id": "5c84a2b2",
   "metadata": {},
   "outputs": [
    {
     "data": {
      "text/plain": [
       "[('Mumbai', 'India', 'Fall', 27.6, 346.0),\n",
       " ('London', 'United Kingdom', 'Winter', 4.2, 207.7),\n",
       " ('London', 'United Kingdom', 'Fall', 10.4, 218.5)]"
      ]
     },
     "execution_count": 71,
     "metadata": {},
     "output_type": "execute_result"
    }
   ],
   "source": [
    "cur.execute('SELECT * FROM weather WHERE Rainfall BETWEEN 200 AND 400')\n",
    "cur.fetchall()"
   ]
  },
  {
   "cell_type": "markdown",
   "id": "d81ccb37",
   "metadata": {},
   "source": [
    "8f)"
   ]
  },
  {
   "cell_type": "code",
   "execution_count": 72,
   "id": "9f2b4267",
   "metadata": {},
   "outputs": [
    {
     "data": {
      "text/plain": [
       "[('Cairo', 'Egypt'), ('Mumbai', 'India')]"
      ]
     },
     "execution_count": 72,
     "metadata": {},
     "output_type": "execute_result"
    }
   ],
   "source": [
    "cur.execute('SELECT City,Country FROM weather WHERE Season=\"Fall\" AND Temperature>20 ORDER BY Temperature ASC  ')\n",
    "cur.fetchall()"
   ]
  },
  {
   "cell_type": "markdown",
   "id": "75c682ce",
   "metadata": {},
   "source": [
    "8g)"
   ]
  },
  {
   "cell_type": "code",
   "execution_count": 73,
   "id": "ef395d04",
   "metadata": {},
   "outputs": [
    {
     "data": {
      "text/plain": [
       "[(27.6,)]"
      ]
     },
     "execution_count": 73,
     "metadata": {},
     "output_type": "execute_result"
    }
   ],
   "source": [
    "cur.execute('SELECT SUM(Rainfall) FROM weather WHERE City=\"Cairo\" ')\n",
    "cur.fetchall()"
   ]
  },
  {
   "cell_type": "markdown",
   "id": "e1fabd5b",
   "metadata": {},
   "source": [
    "8h)"
   ]
  },
  {
   "cell_type": "code",
   "execution_count": 74,
   "id": "b5159108",
   "metadata": {},
   "outputs": [
    {
     "data": {
      "text/plain": [
       "[(569.0,), (192.29999999999998,), (1706.5,), (230.1,)]"
      ]
     },
     "execution_count": 74,
     "metadata": {},
     "output_type": "execute_result"
    }
   ],
   "source": [
    "cur.execute('SELECT SUM(Rainfall) FROM weather GROUP BY Season ')\n",
    "cur.fetchall()"
   ]
  },
  {
   "cell_type": "markdown",
   "id": "17fecbad",
   "metadata": {},
   "source": [
    "Q9"
   ]
  },
  {
   "cell_type": "code",
   "execution_count": 85,
   "id": "74e06a12",
   "metadata": {},
   "outputs": [
    {
     "name": "stdout",
     "output_type": "stream",
     "text": [
      "a)  ['THE', 'QUICK', 'BROWN', 'FOX', 'JUMPS', 'OVER', 'THE', 'LAZY', 'DOG']\n",
      "b)  ['the', 'quick', 'brown', 'fox', 'jumps', 'over', 'the', 'lazy', 'dog']\n",
      "c)  [3, 5, 5, 3, 5, 4, 3, 4, 3]\n",
      "d)  [['DOG', 'dog', 3], ['DOG', 'dog', 3], ['DOG', 'dog', 3], ['DOG', 'dog', 3], ['DOG', 'dog', 3], ['DOG', 'dog', 3], ['DOG', 'dog', 3], ['DOG', 'dog', 3], ['DOG', 'dog', 3]]\n",
      "e)  ['The', 'quick', 'brown', 'fox', 'jumps', 'over', 'the', 'lazy', 'dog']\n"
     ]
    }
   ],
   "source": [
    "l1 =['The','quick','brown','fox','jumps','over','the','lazy','dog']\n",
    "\n",
    "l2 = [name.upper() for name in l1]\n",
    "print(\"a) \",end=\" \")\n",
    "print(l2)\n",
    "\n",
    "l3 = [name.lower() for name in l1]\n",
    "print(\"b) \",end=\" \")\n",
    "print(l3)\n",
    "l4=[]\n",
    "for i in l1:\n",
    "    l4.append(len(i))\n",
    "print(\"c) \",end=\" \")\n",
    "print(l4)\n",
    "\n",
    "listall=[]\n",
    "for i in l1:\n",
    "    length=len(i)\n",
    "    cap=i.upper()\n",
    "    small = i.lower()\n",
    "    listn=[]\n",
    "    listn.append(cap)\n",
    "    listn.append(small)\n",
    "    listn.append(length)\n",
    "    listall.append(listx)\n",
    "print(\"d) \",end=\" \")\n",
    "print(listall)\n",
    "\n",
    "l5=[]\n",
    "for i in l1:\n",
    "    if len(i)>=3:\n",
    "        l5.append(i)\n",
    "print(\"e) \",end=\" \")\n",
    "print(l5)"
   ]
  },
  {
   "cell_type": "code",
   "execution_count": null,
   "id": "51dda704",
   "metadata": {},
   "outputs": [],
   "source": []
  }
 ],
 "metadata": {
  "kernelspec": {
   "display_name": "Python 3 (ipykernel)",
   "language": "python",
   "name": "python3"
  },
  "language_info": {
   "codemirror_mode": {
    "name": "ipython",
    "version": 3
   },
   "file_extension": ".py",
   "mimetype": "text/x-python",
   "name": "python",
   "nbconvert_exporter": "python",
   "pygments_lexer": "ipython3",
   "version": "3.9.12"
  }
 },
 "nbformat": 4,
 "nbformat_minor": 5
}
